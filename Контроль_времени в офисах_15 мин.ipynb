{
 "cells": [
  {
   "cell_type": "markdown",
   "id": "4389047f-f442-40d4-be0f-e3d60e5129a7",
   "metadata": {},
   "source": [
    "#### Выгрузка данных \n",
    "Мы выгружаем файлики из Запрос ОП, ВТЦ. Там у нас лежат выгрузки по всем точкам,  \n",
    "Объединяем их в один файлик.  \n",
    "Также, импортируем склады и объединяем их с нашим основным документом\n"
   ]
  },
  {
   "cell_type": "code",
   "execution_count": 1,
   "id": "7b6d51ff-7d28-4498-bf8c-ab17f6270a1c",
   "metadata": {},
   "outputs": [
    {
     "name": "stdout",
     "output_type": "stream",
     "text": [
      "Наиболее вероятная кодировка: {'encoding': 'windows-1251', 'language': 'Russian', 'confidence': 1.0}\n"
     ]
    }
   ],
   "source": [
    "import pandas as pd\n",
    "import glob\n",
    "import os\n",
    "from datetime import datetime, timedelta\n",
    "import charset_normalizer\n",
    "from datetime import time\n",
    "\n",
    "\n",
    "path = (r'C:\\Users\\Home\\Desktop\\Data\\Точки_продаж')\n",
    "\n",
    "file_encoding = r'C:\\Users\\Home\\Desktop\\Data\\Точки_продаж\\time_live1 01-22.04.csv'\n",
    "with open(file_encoding, 'rb') as difine_code:\n",
    "    result = charset_normalizer.detect(difine_code.read(10000))\n",
    "print(f'Наиболее вероятная кодировка: {result}')\n",
    "\n",
    "def concat_all_csv_files(path):\n",
    "    os.chdir(path)\n",
    "    \n",
    "    # Получаем список всех CSV файлов в папке\n",
    "    csv_files = glob.glob('*.csv')\n",
    "    \n",
    "    # Сортируем файлы по дате изменения (от новых к старым)\n",
    "    csv_files.sort(key=os.path.getmtime, reverse=True)\n",
    "    \n",
    "    combined = pd.DataFrame()\n",
    "    \n",
    "    try:\n",
    "        for csv_file in csv_files:\n",
    "            # Читаем CSV файл\n",
    "            data = pd.read_csv(csv_file, skiprows=6, encoding='windows-1251', sep=';', parse_dates=True, on_bad_lines='warn',low_memory=False)  \n",
    "            \n",
    "            # Добавляем колонку с именем файла\n",
    "            data['source_file'] = csv_file\n",
    "            \n",
    "            # Объединяем с общим DataFrame\n",
    "            combined = pd.concat([combined, data], ignore_index=True)\n",
    "        \n",
    "        return combined\n",
    "    \n",
    "    except Exception as e:\n",
    "        print(f\"Произошла ошибка: {e}\")\n",
    "        return None\n",
    "\n",
    "table = concat_all_csv_files(path)\n",
    "\n",
    "table['Дата'] = pd.to_datetime(table['Дата'], format='%d.%m.%Y') \n",
    "\n",
    "table['Месяц'] = table['Дата'].dt.month"
   ]
  },
  {
   "cell_type": "markdown",
   "id": "aa51c9f8-0182-40d9-b390-b83f914c4d3c",
   "metadata": {},
   "source": [
    "### Следующий шаг -формирование отчёта по выдаче клтенту товара за 15 минут\n",
    "Первый шаг. ['От101до57ф', 'От101до30ф', 'От101до60ф'] - расчёты по времени в минутах, если ни в одном из столбцов нет времени, то ставим нет данных,  \n",
    "нет данных, убираем, они нам не нужны"
   ]
  },
  {
   "cell_type": "code",
   "execution_count": 2,
   "id": "c7cfb82b-dcae-4234-972c-060c0e9b448b",
   "metadata": {},
   "outputs": [],
   "source": [
    "table['ЭО'] = table['ЭО'].astype(str)\n",
    "\n",
    "columns_with_time = ['От101до57ф', 'От101до30ф', 'От101до60ф']\n",
    "table['статус'] = table[columns_with_time].isnull().sum(axis=1)\n",
    "table['статус'] = table['статус'].apply(lambda x: 'нет данных' if x == 3 else 'данные есть')\n",
    "table = table[table['статус'] != 'нет данных']\n",
    "mini_table = table[['ЭО', 'Дата', 'Время', 'От101до57ф', 'От101до30ф', 'От101до60ф']].sort_values('ЭО').iloc[:10]\n"
   ]
  },
  {
   "cell_type": "markdown",
   "id": "919d7a72-d9b9-4018-81e4-cba94924fb6d",
   "metadata": {},
   "source": [
    "### Может ли дублироваться время по: От101до57ф, От101до30ф, От101до60ф?\n",
    "\n",
    "Если по итогу получем среднее - 1 и стандартное - 0, значит, дублей по значениям нет.\n",
    "Можно упростить расчёт времени"
   ]
  },
  {
   "cell_type": "code",
   "execution_count": 3,
   "id": "db179fec-0279-4fd3-9ad7-15663c9b4b58",
   "metadata": {},
   "outputs": [
    {
     "name": "stdout",
     "output_type": "stream",
     "text": [
      "среднее: 1.0, стандартное: 0.0\n"
     ]
    }
   ],
   "source": [
    "def count_notna(row):\n",
    "    result = pd.notna(row['От101до57ф']) + pd.notna(row['От101до30ф']) + pd.notna(row['От101до60ф']) \n",
    "    return result\n",
    "    \n",
    "mini_table['кол-во значений'] = mini_table.apply(count_notna, axis=1)\n",
    "avg = mini_table['кол-во значений'].mean()\n",
    "std = mini_table['кол-во значений'].std()\n",
    "print(f'среднее: {avg}, стандартное: {std}')"
   ]
  },
  {
   "cell_type": "markdown",
   "id": "15c91f79-32db-430b-8ff3-1985bd5a5649",
   "metadata": {},
   "source": [
    "### Расчёт рабочего времени\n",
    "по трём колонкам с временем заполняем пустые значения нулями -> складываем столбцы -> получаем рабочее время  \n",
    "если что складываем по От101до57ф, От101до30ф, От101до60ф"
   ]
  },
  {
   "cell_type": "code",
   "execution_count": 4,
   "id": "a04e457b-2995-4546-99e5-4eca5a826fff",
   "metadata": {},
   "outputs": [
    {
     "data": {
      "text/plain": [
       "статус\n",
       "данные есть    236062\n",
       "Name: count, dtype: int64"
      ]
     },
     "execution_count": 4,
     "metadata": {},
     "output_type": "execute_result"
    }
   ],
   "source": [
    "\n",
    "table[columns_with_time] = table[columns_with_time].fillna(0) \n",
    "table['Рабочее время'] = table[columns_with_time].sum(axis=1)\n",
    "\n",
    "table['статус'].value_counts()"
   ]
  },
  {
   "cell_type": "markdown",
   "id": "c8bc90f1-88b1-4e17-8db4-ebf2c5ff0297",
   "metadata": {},
   "source": [
    "### Считаем кол-во строк/объём в одном комплекте\n",
    "\n",
    "Несколько заказов на одного клиента с одной Электронной очередью = комплект\n",
    "\n",
    "Часто встречаются ситуации, когда один человек делает несколько заказов/либо происходит дробление менеджером.  \n",
    "Такие случаи мы *считаем*.  \n",
    "\n",
    "ниже считаем объём и кол-во строк на один комплект"
   ]
  },
  {
   "cell_type": "code",
   "execution_count": 5,
   "id": "537c03c9-af46-4752-8b7f-2de26338d525",
   "metadata": {},
   "outputs": [
    {
     "data": {
      "text/html": [
       "<div>\n",
       "<style scoped>\n",
       "    .dataframe tbody tr th:only-of-type {\n",
       "        vertical-align: middle;\n",
       "    }\n",
       "\n",
       "    .dataframe tbody tr th {\n",
       "        vertical-align: top;\n",
       "    }\n",
       "\n",
       "    .dataframe thead th {\n",
       "        text-align: right;\n",
       "    }\n",
       "</style>\n",
       "<table border=\"1\" class=\"dataframe\">\n",
       "  <thead>\n",
       "    <tr style=\"text-align: right;\">\n",
       "      <th></th>\n",
       "      <th>Номер</th>\n",
       "      <th>ЭО</th>\n",
       "      <th>Дата</th>\n",
       "      <th>Время</th>\n",
       "      <th>От101до57ф</th>\n",
       "      <th>От101до30ф</th>\n",
       "      <th>От101до60ф</th>\n",
       "      <th>КолТовСтр</th>\n",
       "      <th>объём комплекта суммарный</th>\n",
       "      <th>строк на один комплект</th>\n",
       "      <th>Рабочее время</th>\n",
       "    </tr>\n",
       "  </thead>\n",
       "  <tbody>\n",
       "    <tr>\n",
       "      <th>3708</th>\n",
       "      <td>401/1173849</td>\n",
       "      <td>ЯЯ1838</td>\n",
       "      <td>2025-04-11</td>\n",
       "      <td>17:38</td>\n",
       "      <td>5.0</td>\n",
       "      <td>0.0</td>\n",
       "      <td>0.0</td>\n",
       "      <td>5.0</td>\n",
       "      <td>0.009844</td>\n",
       "      <td>5</td>\n",
       "      <td>5.0</td>\n",
       "    </tr>\n",
       "    <tr>\n",
       "      <th>1388</th>\n",
       "      <td>429/6227539055</td>\n",
       "      <td>ЯЯ1825</td>\n",
       "      <td>2025-04-11</td>\n",
       "      <td>17:25</td>\n",
       "      <td>3.0</td>\n",
       "      <td>0.0</td>\n",
       "      <td>0.0</td>\n",
       "      <td>1.0</td>\n",
       "      <td>0.005000</td>\n",
       "      <td>1</td>\n",
       "      <td>3.0</td>\n",
       "    </tr>\n",
       "    <tr>\n",
       "      <th>1373</th>\n",
       "      <td>429/10235472</td>\n",
       "      <td>ЯЯ1820</td>\n",
       "      <td>2025-04-11</td>\n",
       "      <td>17:20</td>\n",
       "      <td>2.0</td>\n",
       "      <td>0.0</td>\n",
       "      <td>0.0</td>\n",
       "      <td>1.0</td>\n",
       "      <td>0.028324</td>\n",
       "      <td>1</td>\n",
       "      <td>2.0</td>\n",
       "    </tr>\n",
       "    <tr>\n",
       "      <th>2497</th>\n",
       "      <td>999/7335398</td>\n",
       "      <td>ЯЯ1746</td>\n",
       "      <td>2025-04-01</td>\n",
       "      <td>16:46</td>\n",
       "      <td>2.0</td>\n",
       "      <td>0.0</td>\n",
       "      <td>0.0</td>\n",
       "      <td>1.0</td>\n",
       "      <td>0.001014</td>\n",
       "      <td>1</td>\n",
       "      <td>2.0</td>\n",
       "    </tr>\n",
       "    <tr>\n",
       "      <th>4016</th>\n",
       "      <td>401/11916113</td>\n",
       "      <td>ЯЯ1740</td>\n",
       "      <td>2025-04-14</td>\n",
       "      <td>16:40</td>\n",
       "      <td>0.0</td>\n",
       "      <td>0.0</td>\n",
       "      <td>7.0</td>\n",
       "      <td>1.0</td>\n",
       "      <td>0.000152</td>\n",
       "      <td>1</td>\n",
       "      <td>7.0</td>\n",
       "    </tr>\n",
       "    <tr>\n",
       "      <th>827</th>\n",
       "      <td>401/11915989-2</td>\n",
       "      <td>ЯЯ1739</td>\n",
       "      <td>2025-04-08</td>\n",
       "      <td>16:39</td>\n",
       "      <td>6.0</td>\n",
       "      <td>0.0</td>\n",
       "      <td>0.0</td>\n",
       "      <td>4.0</td>\n",
       "      <td>0.006302</td>\n",
       "      <td>4</td>\n",
       "      <td>6.0</td>\n",
       "    </tr>\n",
       "    <tr>\n",
       "      <th>3301</th>\n",
       "      <td>401/11916011</td>\n",
       "      <td>ЯЯ1731</td>\n",
       "      <td>2025-04-08</td>\n",
       "      <td>16:31</td>\n",
       "      <td>0.0</td>\n",
       "      <td>0.0</td>\n",
       "      <td>3.0</td>\n",
       "      <td>1.0</td>\n",
       "      <td>0.000500</td>\n",
       "      <td>1</td>\n",
       "      <td>3.0</td>\n",
       "    </tr>\n",
       "    <tr>\n",
       "      <th>975</th>\n",
       "      <td>401/11916030</td>\n",
       "      <td>ЯЯ1730</td>\n",
       "      <td>2025-04-09</td>\n",
       "      <td>16:30</td>\n",
       "      <td>0.0</td>\n",
       "      <td>3.0</td>\n",
       "      <td>0.0</td>\n",
       "      <td>1.0</td>\n",
       "      <td>0.000022</td>\n",
       "      <td>1</td>\n",
       "      <td>3.0</td>\n",
       "    </tr>\n",
       "    <tr>\n",
       "      <th>4015</th>\n",
       "      <td>401/11916112</td>\n",
       "      <td>ЯЯ1720</td>\n",
       "      <td>2025-04-14</td>\n",
       "      <td>16:20</td>\n",
       "      <td>0.0</td>\n",
       "      <td>0.0</td>\n",
       "      <td>5.0</td>\n",
       "      <td>1.0</td>\n",
       "      <td>0.001859</td>\n",
       "      <td>1</td>\n",
       "      <td>5.0</td>\n",
       "    </tr>\n",
       "    <tr>\n",
       "      <th>2511</th>\n",
       "      <td>999/7379563</td>\n",
       "      <td>ЯЯ1711</td>\n",
       "      <td>2025-04-01</td>\n",
       "      <td>16:11</td>\n",
       "      <td>2.0</td>\n",
       "      <td>0.0</td>\n",
       "      <td>0.0</td>\n",
       "      <td>1.0</td>\n",
       "      <td>0.001150</td>\n",
       "      <td>1</td>\n",
       "      <td>2.0</td>\n",
       "    </tr>\n",
       "  </tbody>\n",
       "</table>\n",
       "</div>"
      ],
      "text/plain": [
       "               Номер      ЭО       Дата  Время  От101до57ф  От101до30ф  \\\n",
       "3708     401/1173849  ЯЯ1838 2025-04-11  17:38         5.0         0.0   \n",
       "1388  429/6227539055  ЯЯ1825 2025-04-11  17:25         3.0         0.0   \n",
       "1373    429/10235472  ЯЯ1820 2025-04-11  17:20         2.0         0.0   \n",
       "2497     999/7335398  ЯЯ1746 2025-04-01  16:46         2.0         0.0   \n",
       "4016    401/11916113  ЯЯ1740 2025-04-14  16:40         0.0         0.0   \n",
       "827   401/11915989-2  ЯЯ1739 2025-04-08  16:39         6.0         0.0   \n",
       "3301    401/11916011  ЯЯ1731 2025-04-08  16:31         0.0         0.0   \n",
       "975     401/11916030  ЯЯ1730 2025-04-09  16:30         0.0         3.0   \n",
       "4015    401/11916112  ЯЯ1720 2025-04-14  16:20         0.0         0.0   \n",
       "2511     999/7379563  ЯЯ1711 2025-04-01  16:11         2.0         0.0   \n",
       "\n",
       "      От101до60ф  КолТовСтр  объём комплекта суммарный  \\\n",
       "3708         0.0        5.0                   0.009844   \n",
       "1388         0.0        1.0                   0.005000   \n",
       "1373         0.0        1.0                   0.028324   \n",
       "2497         0.0        1.0                   0.001014   \n",
       "4016         7.0        1.0                   0.000152   \n",
       "827          0.0        4.0                   0.006302   \n",
       "3301         3.0        1.0                   0.000500   \n",
       "975          0.0        1.0                   0.000022   \n",
       "4015         5.0        1.0                   0.001859   \n",
       "2511         0.0        1.0                   0.001150   \n",
       "\n",
       "      строк на один комплект  Рабочее время  \n",
       "3708                       5            5.0  \n",
       "1388                       1            3.0  \n",
       "1373                       1            2.0  \n",
       "2497                       1            2.0  \n",
       "4016                       1            7.0  \n",
       "827                        4            6.0  \n",
       "3301                       1            3.0  \n",
       "975                        1            3.0  \n",
       "4015                       1            5.0  \n",
       "2511                       1            2.0  "
      ]
     },
     "execution_count": 5,
     "metadata": {},
     "output_type": "execute_result"
    }
   ],
   "source": [
    "table['строк на один комплект'] = table.groupby(['Код к/аг', 'ЭО'])['КолТовСтр'].transform('sum').fillna(0).astype(int)\n",
    "\n",
    "table['объём комплекта суммарный'] = table.groupby(['Код к/аг', 'ЭО'])['ОбъемДок(м3)'].transform('sum').fillna(0).astype(float)\n",
    "\n",
    "table[['Номер', 'ЭО', 'Дата', 'Время', 'От101до57ф', 'От101до30ф', 'От101до60ф', 'КолТовСтр',\n",
    "       'объём комплекта суммарный', 'строк на один комплект', 'Рабочее время']].sort_values('ЭО', ascending=False).iloc[:10]"
   ]
  },
  {
   "cell_type": "markdown",
   "id": "1221bb2e-c7a4-47c2-8780-33fa113dd912",
   "metadata": {},
   "source": [
    "### Удаление дублирующихся заказов\n",
    "\n",
    "Удаляем дублирующиеся заказы внутри комплектов, при это по времени оставляем - с наибольшим. Чтобы рассчитать время на одного клиента"
   ]
  },
  {
   "cell_type": "code",
   "execution_count": 6,
   "id": "c8eaca54-e1dc-47ff-8807-c821c0327e22",
   "metadata": {},
   "outputs": [
    {
     "name": "stdout",
     "output_type": "stream",
     "text": [
      "Значений до удаления дублей: 236062, после удаления: 166817\n"
     ]
    }
   ],
   "source": [
    "table.sort_values('Рабочее время', ascending=False)\n",
    "\n",
    "table_without_dubl = table.drop_duplicates(['Код к/аг', 'ЭО'], keep='first')\n",
    "\n",
    "print(f'Значений до удаления дублей: {len(table)}, после удаления: {len(table_without_dubl)}')\n"
   ]
  },
  {
   "cell_type": "markdown",
   "id": "2d7a62b6-e293-413d-a8b3-233ddfa87484",
   "metadata": {},
   "source": [
    "#### Распределние времени и заказа\n",
    "соответсвующе разбиваем время на диапазончики  \n",
    "также, разбиваем заказ на \"Маленький заказ\" и \"более 12 позиций или 1М3\"  \n",
    "думаю, названия говорят сами за себя"
   ]
  },
  {
   "cell_type": "code",
   "execution_count": 7,
   "id": "9b1d28e9-74aa-46a4-b316-aa8ed2b44350",
   "metadata": {},
   "outputs": [
    {
     "name": "stderr",
     "output_type": "stream",
     "text": [
      "C:\\Users\\Home\\AppData\\Local\\Temp\\ipykernel_34336\\1794854112.py:33: SettingWithCopyWarning: \n",
      "A value is trying to be set on a copy of a slice from a DataFrame.\n",
      "Try using .loc[row_indexer,col_indexer] = value instead\n",
      "\n",
      "See the caveats in the documentation: https://pandas.pydata.org/pandas-docs/stable/user_guide/indexing.html#returning-a-view-versus-a-copy\n",
      "  table_without_dubl['Распределение времени'] = table_without_dubl.apply(time_distribution, axis=1)\n",
      "C:\\Users\\Home\\AppData\\Local\\Temp\\ipykernel_34336\\1794854112.py:34: SettingWithCopyWarning: \n",
      "A value is trying to be set on a copy of a slice from a DataFrame.\n",
      "Try using .loc[row_indexer,col_indexer] = value instead\n",
      "\n",
      "See the caveats in the documentation: https://pandas.pydata.org/pandas-docs/stable/user_guide/indexing.html#returning-a-view-versus-a-copy\n",
      "  table_without_dubl['Размер заказа'] = table_without_dubl.apply(size_of_order, axis=1)\n"
     ]
    },
    {
     "data": {
      "text/plain": [
       "Размер заказа\n",
       "Маленький заказ           153765\n",
       "более 12 строк или 1М3     13052\n",
       "Name: count, dtype: int64"
      ]
     },
     "execution_count": 7,
     "metadata": {},
     "output_type": "execute_result"
    }
   ],
   "source": [
    "\n",
    "def time_distribution(row):\n",
    "    if isinstance(row['Рабочее время'], str):\n",
    "        if row['Рабочее время'] == \"нет данных\":\n",
    "            return row['Рабочее время']\n",
    "    elif row['Рабочее время'] <= 15:\n",
    "        return \"до 15\"\n",
    "    elif row['Рабочее время'] <= 30 and row['Рабочее время'] > 15:\n",
    "        return \"16-30\"\n",
    "    elif row['Рабочее время'] <= 45 and row['Рабочее время'] > 30:\n",
    "        return \"31-45\"\n",
    "    elif row['Рабочее время'] <= 60 and row['Рабочее время'] > 45:\n",
    "        return \"46-60\"\n",
    "    elif row['Рабочее время'] > 60:\n",
    "        return \"Свыше часа\"\n",
    "\n",
    "\n",
    "def size_of_order(row):\n",
    "    if (row['ОбъемДок(м3)'] == \"\") and pd.isnull(row['КолТовСтр']) or pd.isnull(row['ОбъемДок(м3)']) and pd.isnull(row['КолТовСтр']):\n",
    "        return \"нет данных\"\n",
    "    else:\n",
    "        try:\n",
    "            volume = float(row['объём комплекта суммарный'])\n",
    "            goods = int(row['строк на один комплект'])\n",
    "        except ValueError:\n",
    "            volume = 0\n",
    "            goods = 0\n",
    "        \n",
    "        if volume > 1 or goods > 12:\n",
    "            return \"более 12 строк или 1М3\"\n",
    "        else:\n",
    "            return \"Маленький заказ\"\n",
    "\n",
    "table_without_dubl['Распределение времени'] = table_without_dubl.apply(time_distribution, axis=1)\n",
    "table_without_dubl['Размер заказа'] = table_without_dubl.apply(size_of_order, axis=1)\n",
    "\n",
    "table_without_dubl['Размер заказа'].value_counts()\n"
   ]
  },
  {
   "cell_type": "markdown",
   "id": "56dbdfec-147a-480a-a209-644c29ae3f48",
   "metadata": {
    "scrolled": true
   },
   "source": [
    "#### построение сводной таблицы  \n",
    "Предварителньо здесь можно ознакомиться с результамтами, можно выбрать необходимый месяц"
   ]
  },
  {
   "cell_type": "code",
   "execution_count": 11,
   "id": "03f26045-e4f1-406d-8830-dd33dc9b3db4",
   "metadata": {},
   "outputs": [
    {
     "data": {
      "text/html": [
       "<div>\n",
       "<style scoped>\n",
       "    .dataframe tbody tr th:only-of-type {\n",
       "        vertical-align: middle;\n",
       "    }\n",
       "\n",
       "    .dataframe tbody tr th {\n",
       "        vertical-align: top;\n",
       "    }\n",
       "\n",
       "    .dataframe thead th {\n",
       "        text-align: right;\n",
       "    }\n",
       "</style>\n",
       "<table border=\"1\" class=\"dataframe\">\n",
       "  <thead>\n",
       "    <tr style=\"text-align: right;\">\n",
       "      <th>Распределение времени</th>\n",
       "      <th>16-30</th>\n",
       "      <th>31-45</th>\n",
       "      <th>46-60</th>\n",
       "      <th>Свыше часа</th>\n",
       "      <th>до 15</th>\n",
       "      <th>Всего</th>\n",
       "      <th>% До 15</th>\n",
       "      <th>% 16-30</th>\n",
       "      <th>% 31-45</th>\n",
       "      <th>% 46-60</th>\n",
       "      <th>% Свыше часа</th>\n",
       "    </tr>\n",
       "  </thead>\n",
       "  <tbody>\n",
       "    <tr>\n",
       "      <th>Номер</th>\n",
       "      <td>5632</td>\n",
       "      <td>1004</td>\n",
       "      <td>356</td>\n",
       "      <td>1893</td>\n",
       "      <td>157932</td>\n",
       "      <td>166817</td>\n",
       "      <td>0.946738</td>\n",
       "      <td>0.033762</td>\n",
       "      <td>0.006019</td>\n",
       "      <td>0.002134</td>\n",
       "      <td>0.011348</td>\n",
       "    </tr>\n",
       "  </tbody>\n",
       "</table>\n",
       "</div>"
      ],
      "text/plain": [
       "Распределение времени  16-30  31-45  46-60  Свыше часа   до 15   Всего  \\\n",
       "Номер                   5632   1004    356        1893  157932  166817   \n",
       "\n",
       "Распределение времени   % До 15   % 16-30   % 31-45   % 46-60  % Свыше часа  \n",
       "Номер                  0.946738  0.033762  0.006019  0.002134      0.011348  "
      ]
     },
     "execution_count": 11,
     "metadata": {},
     "output_type": "execute_result"
    }
   ],
   "source": [
    "# table_current_m = table_current_m[table_current_m['Распределение времени'] != 'не выдан']\n",
    "pivot_table_office = table_without_dubl.pivot_table( values='Номер',\n",
    "    index=None,\n",
    "    columns='Распределение времени',\n",
    "    aggfunc='count')\n",
    "\n",
    "pivot_table_office['Всего'] = pivot_table_office[['16-30', '31-45', '46-60', 'Свыше часа', 'до 15']].sum(axis=1)\n",
    "pivot_table_office['% До 15'] = pivot_table_office['до 15'] / pivot_table_office['Всего'] \n",
    "pivot_table_office['% 16-30'] = pivot_table_office['16-30'] / pivot_table_office['Всего'] \n",
    "pivot_table_office['% 31-45'] = pivot_table_office['31-45'] / pivot_table_office['Всего'] \n",
    "pivot_table_office['% 46-60'] = pivot_table_office['46-60'] / pivot_table_office['Всего'] \n",
    "pivot_table_office['% Свыше часа'] = pivot_table_office['Свыше часа'] / pivot_table_office['Всего'] \n",
    "\n",
    "pivot_table_office"
   ]
  },
  {
   "cell_type": "markdown",
   "id": "644beeb1-1df1-4d19-a4db-bb047d7a5d60",
   "metadata": {},
   "source": [
    "#### Выгружаем по итогу обработанные данные  \n"
   ]
  },
  {
   "cell_type": "code",
   "execution_count": null,
   "id": "11725ab4-a026-481e-849d-d01b007330e1",
   "metadata": {},
   "outputs": [],
   "source": [
    "archive_path_1 = f\"C:\\\\Users\\\\Home\\\\Desktop\\\\Data\\\\Точки_продаж\\\\данные своевременность по ОП, ВТЦ, СВК {today}.xlsx\"\n",
    "with pd.ExcelWriter(archive_path_1, engine='openpyxl') as writer:\n",
    "    table_without_dubl.to_excel(writer, sheet_name='отчёт', index=False)"
   ]
  },
  {
   "cell_type": "code",
   "execution_count": null,
   "id": "bccade83-0e57-449c-b835-8ca4127fd009",
   "metadata": {},
   "outputs": [],
   "source": []
  }
 ],
 "metadata": {
  "kernelspec": {
   "display_name": "Python 3 (ipykernel)",
   "language": "python",
   "name": "python3"
  },
  "language_info": {
   "codemirror_mode": {
    "name": "ipython",
    "version": 3
   },
   "file_extension": ".py",
   "mimetype": "text/x-python",
   "name": "python",
   "nbconvert_exporter": "python",
   "pygments_lexer": "ipython3",
   "version": "3.11.5"
  }
 },
 "nbformat": 4,
 "nbformat_minor": 5
}
